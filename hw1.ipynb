{
 "cells": [
  {
   "cell_type": "markdown",
   "id": "a16837e8",
   "metadata": {},
   "source": [
    "Name: Doga Yalcin\n",
    "<br>\n",
    "ID: 191101054\n",
    "<br>\n",
    "Course: BIL470"
   ]
  },
  {
   "cell_type": "code",
   "execution_count": 83,
   "id": "6084474d",
   "metadata": {},
   "outputs": [],
   "source": [
    "import pandas as pd\n",
    "import numpy as np\n",
    "import matplotlib.pyplot as plt\n",
    "import seaborn as sns\n",
    "from sklearn.model_selection import train_test_split\n",
    "from sklearn import metrics\n",
    "from dt import DecisionTreeClassifier"
   ]
  },
  {
   "cell_type": "markdown",
   "id": "e818fbf9",
   "metadata": {},
   "source": [
    "# Exploratory Data Analysis (EDA)"
   ]
  },
  {
   "cell_type": "markdown",
   "id": "191ef1d4",
   "metadata": {},
   "source": [
    "### Read DataSet"
   ]
  },
  {
   "cell_type": "code",
   "execution_count": 2,
   "id": "1f5b1737",
   "metadata": {},
   "outputs": [
    {
     "data": {
      "text/html": [
       "<div>\n",
       "<style scoped>\n",
       "    .dataframe tbody tr th:only-of-type {\n",
       "        vertical-align: middle;\n",
       "    }\n",
       "\n",
       "    .dataframe tbody tr th {\n",
       "        vertical-align: top;\n",
       "    }\n",
       "\n",
       "    .dataframe thead th {\n",
       "        text-align: right;\n",
       "    }\n",
       "</style>\n",
       "<table border=\"1\" class=\"dataframe\">\n",
       "  <thead>\n",
       "    <tr style=\"text-align: right;\">\n",
       "      <th></th>\n",
       "      <th>Id</th>\n",
       "      <th>SepalLengthCm</th>\n",
       "      <th>SepalWidthCm</th>\n",
       "      <th>PetalLengthCm</th>\n",
       "      <th>PetalWidthCm</th>\n",
       "      <th>Species</th>\n",
       "    </tr>\n",
       "  </thead>\n",
       "  <tbody>\n",
       "    <tr>\n",
       "      <th>0</th>\n",
       "      <td>1</td>\n",
       "      <td>5.1</td>\n",
       "      <td>3.5</td>\n",
       "      <td>1.4</td>\n",
       "      <td>0.2</td>\n",
       "      <td>Iris-setosa</td>\n",
       "    </tr>\n",
       "    <tr>\n",
       "      <th>1</th>\n",
       "      <td>2</td>\n",
       "      <td>4.9</td>\n",
       "      <td>3.0</td>\n",
       "      <td>1.4</td>\n",
       "      <td>0.2</td>\n",
       "      <td>Iris-setosa</td>\n",
       "    </tr>\n",
       "    <tr>\n",
       "      <th>2</th>\n",
       "      <td>3</td>\n",
       "      <td>4.7</td>\n",
       "      <td>3.2</td>\n",
       "      <td>1.3</td>\n",
       "      <td>0.2</td>\n",
       "      <td>Iris-setosa</td>\n",
       "    </tr>\n",
       "    <tr>\n",
       "      <th>3</th>\n",
       "      <td>4</td>\n",
       "      <td>4.6</td>\n",
       "      <td>3.1</td>\n",
       "      <td>1.5</td>\n",
       "      <td>0.2</td>\n",
       "      <td>Iris-setosa</td>\n",
       "    </tr>\n",
       "    <tr>\n",
       "      <th>4</th>\n",
       "      <td>5</td>\n",
       "      <td>5.0</td>\n",
       "      <td>3.6</td>\n",
       "      <td>1.4</td>\n",
       "      <td>0.2</td>\n",
       "      <td>Iris-setosa</td>\n",
       "    </tr>\n",
       "    <tr>\n",
       "      <th>...</th>\n",
       "      <td>...</td>\n",
       "      <td>...</td>\n",
       "      <td>...</td>\n",
       "      <td>...</td>\n",
       "      <td>...</td>\n",
       "      <td>...</td>\n",
       "    </tr>\n",
       "    <tr>\n",
       "      <th>145</th>\n",
       "      <td>146</td>\n",
       "      <td>6.7</td>\n",
       "      <td>3.0</td>\n",
       "      <td>5.2</td>\n",
       "      <td>2.3</td>\n",
       "      <td>Iris-virginica</td>\n",
       "    </tr>\n",
       "    <tr>\n",
       "      <th>146</th>\n",
       "      <td>147</td>\n",
       "      <td>6.3</td>\n",
       "      <td>2.5</td>\n",
       "      <td>5.0</td>\n",
       "      <td>1.9</td>\n",
       "      <td>Iris-virginica</td>\n",
       "    </tr>\n",
       "    <tr>\n",
       "      <th>147</th>\n",
       "      <td>148</td>\n",
       "      <td>6.5</td>\n",
       "      <td>3.0</td>\n",
       "      <td>5.2</td>\n",
       "      <td>2.0</td>\n",
       "      <td>Iris-virginica</td>\n",
       "    </tr>\n",
       "    <tr>\n",
       "      <th>148</th>\n",
       "      <td>149</td>\n",
       "      <td>6.2</td>\n",
       "      <td>3.4</td>\n",
       "      <td>5.4</td>\n",
       "      <td>2.3</td>\n",
       "      <td>Iris-virginica</td>\n",
       "    </tr>\n",
       "    <tr>\n",
       "      <th>149</th>\n",
       "      <td>150</td>\n",
       "      <td>5.9</td>\n",
       "      <td>3.0</td>\n",
       "      <td>5.1</td>\n",
       "      <td>1.8</td>\n",
       "      <td>Iris-virginica</td>\n",
       "    </tr>\n",
       "  </tbody>\n",
       "</table>\n",
       "<p>150 rows × 6 columns</p>\n",
       "</div>"
      ],
      "text/plain": [
       "      Id  SepalLengthCm  SepalWidthCm  PetalLengthCm  PetalWidthCm  \\\n",
       "0      1            5.1           3.5            1.4           0.2   \n",
       "1      2            4.9           3.0            1.4           0.2   \n",
       "2      3            4.7           3.2            1.3           0.2   \n",
       "3      4            4.6           3.1            1.5           0.2   \n",
       "4      5            5.0           3.6            1.4           0.2   \n",
       "..   ...            ...           ...            ...           ...   \n",
       "145  146            6.7           3.0            5.2           2.3   \n",
       "146  147            6.3           2.5            5.0           1.9   \n",
       "147  148            6.5           3.0            5.2           2.0   \n",
       "148  149            6.2           3.4            5.4           2.3   \n",
       "149  150            5.9           3.0            5.1           1.8   \n",
       "\n",
       "            Species  \n",
       "0       Iris-setosa  \n",
       "1       Iris-setosa  \n",
       "2       Iris-setosa  \n",
       "3       Iris-setosa  \n",
       "4       Iris-setosa  \n",
       "..              ...  \n",
       "145  Iris-virginica  \n",
       "146  Iris-virginica  \n",
       "147  Iris-virginica  \n",
       "148  Iris-virginica  \n",
       "149  Iris-virginica  \n",
       "\n",
       "[150 rows x 6 columns]"
      ]
     },
     "execution_count": 2,
     "metadata": {},
     "output_type": "execute_result"
    }
   ],
   "source": [
    "iris = pd.read_csv(r'Iris.csv')\n",
    "iris"
   ]
  },
  {
   "cell_type": "markdown",
   "id": "69e3745e",
   "metadata": {},
   "source": [
    "### Info"
   ]
  },
  {
   "cell_type": "code",
   "execution_count": 3,
   "id": "1b4b962f",
   "metadata": {
    "scrolled": true
   },
   "outputs": [
    {
     "name": "stdout",
     "output_type": "stream",
     "text": [
      "<class 'pandas.core.frame.DataFrame'>\n",
      "RangeIndex: 150 entries, 0 to 149\n",
      "Data columns (total 6 columns):\n",
      " #   Column         Non-Null Count  Dtype  \n",
      "---  ------         --------------  -----  \n",
      " 0   Id             150 non-null    int64  \n",
      " 1   SepalLengthCm  150 non-null    float64\n",
      " 2   SepalWidthCm   150 non-null    float64\n",
      " 3   PetalLengthCm  150 non-null    float64\n",
      " 4   PetalWidthCm   150 non-null    float64\n",
      " 5   Species        150 non-null    object \n",
      "dtypes: float64(4), int64(1), object(1)\n",
      "memory usage: 7.2+ KB\n"
     ]
    }
   ],
   "source": [
    "iris.info()"
   ]
  },
  {
   "cell_type": "markdown",
   "id": "ac281b00",
   "metadata": {},
   "source": [
    "### Data Types"
   ]
  },
  {
   "cell_type": "code",
   "execution_count": 4,
   "id": "8132cc51",
   "metadata": {},
   "outputs": [
    {
     "data": {
      "text/plain": [
       "Id                 int64\n",
       "SepalLengthCm    float64\n",
       "SepalWidthCm     float64\n",
       "PetalLengthCm    float64\n",
       "PetalWidthCm     float64\n",
       "Species           object\n",
       "dtype: object"
      ]
     },
     "execution_count": 4,
     "metadata": {},
     "output_type": "execute_result"
    }
   ],
   "source": [
    "iris.dtypes"
   ]
  },
  {
   "cell_type": "markdown",
   "id": "d97a6990",
   "metadata": {},
   "source": [
    "### Modify DataSet"
   ]
  },
  {
   "cell_type": "code",
   "execution_count": 5,
   "id": "884c2d21",
   "metadata": {},
   "outputs": [
    {
     "data": {
      "text/html": [
       "<div>\n",
       "<style scoped>\n",
       "    .dataframe tbody tr th:only-of-type {\n",
       "        vertical-align: middle;\n",
       "    }\n",
       "\n",
       "    .dataframe tbody tr th {\n",
       "        vertical-align: top;\n",
       "    }\n",
       "\n",
       "    .dataframe thead th {\n",
       "        text-align: right;\n",
       "    }\n",
       "</style>\n",
       "<table border=\"1\" class=\"dataframe\">\n",
       "  <thead>\n",
       "    <tr style=\"text-align: right;\">\n",
       "      <th></th>\n",
       "      <th>SepalLengthCm</th>\n",
       "      <th>SepalWidthCm</th>\n",
       "      <th>PetalLengthCm</th>\n",
       "      <th>PetalWidthCm</th>\n",
       "      <th>Species</th>\n",
       "    </tr>\n",
       "  </thead>\n",
       "  <tbody>\n",
       "    <tr>\n",
       "      <th>0</th>\n",
       "      <td>5.1</td>\n",
       "      <td>3.5</td>\n",
       "      <td>1.4</td>\n",
       "      <td>0.2</td>\n",
       "      <td>Iris-setosa</td>\n",
       "    </tr>\n",
       "    <tr>\n",
       "      <th>1</th>\n",
       "      <td>4.9</td>\n",
       "      <td>3.0</td>\n",
       "      <td>1.4</td>\n",
       "      <td>0.2</td>\n",
       "      <td>Iris-setosa</td>\n",
       "    </tr>\n",
       "    <tr>\n",
       "      <th>2</th>\n",
       "      <td>4.7</td>\n",
       "      <td>3.2</td>\n",
       "      <td>1.3</td>\n",
       "      <td>0.2</td>\n",
       "      <td>Iris-setosa</td>\n",
       "    </tr>\n",
       "    <tr>\n",
       "      <th>3</th>\n",
       "      <td>4.6</td>\n",
       "      <td>3.1</td>\n",
       "      <td>1.5</td>\n",
       "      <td>0.2</td>\n",
       "      <td>Iris-setosa</td>\n",
       "    </tr>\n",
       "    <tr>\n",
       "      <th>4</th>\n",
       "      <td>5.0</td>\n",
       "      <td>3.6</td>\n",
       "      <td>1.4</td>\n",
       "      <td>0.2</td>\n",
       "      <td>Iris-setosa</td>\n",
       "    </tr>\n",
       "    <tr>\n",
       "      <th>...</th>\n",
       "      <td>...</td>\n",
       "      <td>...</td>\n",
       "      <td>...</td>\n",
       "      <td>...</td>\n",
       "      <td>...</td>\n",
       "    </tr>\n",
       "    <tr>\n",
       "      <th>145</th>\n",
       "      <td>6.7</td>\n",
       "      <td>3.0</td>\n",
       "      <td>5.2</td>\n",
       "      <td>2.3</td>\n",
       "      <td>Iris-virginica</td>\n",
       "    </tr>\n",
       "    <tr>\n",
       "      <th>146</th>\n",
       "      <td>6.3</td>\n",
       "      <td>2.5</td>\n",
       "      <td>5.0</td>\n",
       "      <td>1.9</td>\n",
       "      <td>Iris-virginica</td>\n",
       "    </tr>\n",
       "    <tr>\n",
       "      <th>147</th>\n",
       "      <td>6.5</td>\n",
       "      <td>3.0</td>\n",
       "      <td>5.2</td>\n",
       "      <td>2.0</td>\n",
       "      <td>Iris-virginica</td>\n",
       "    </tr>\n",
       "    <tr>\n",
       "      <th>148</th>\n",
       "      <td>6.2</td>\n",
       "      <td>3.4</td>\n",
       "      <td>5.4</td>\n",
       "      <td>2.3</td>\n",
       "      <td>Iris-virginica</td>\n",
       "    </tr>\n",
       "    <tr>\n",
       "      <th>149</th>\n",
       "      <td>5.9</td>\n",
       "      <td>3.0</td>\n",
       "      <td>5.1</td>\n",
       "      <td>1.8</td>\n",
       "      <td>Iris-virginica</td>\n",
       "    </tr>\n",
       "  </tbody>\n",
       "</table>\n",
       "<p>150 rows × 5 columns</p>\n",
       "</div>"
      ],
      "text/plain": [
       "     SepalLengthCm  SepalWidthCm  PetalLengthCm  PetalWidthCm         Species\n",
       "0              5.1           3.5            1.4           0.2     Iris-setosa\n",
       "1              4.9           3.0            1.4           0.2     Iris-setosa\n",
       "2              4.7           3.2            1.3           0.2     Iris-setosa\n",
       "3              4.6           3.1            1.5           0.2     Iris-setosa\n",
       "4              5.0           3.6            1.4           0.2     Iris-setosa\n",
       "..             ...           ...            ...           ...             ...\n",
       "145            6.7           3.0            5.2           2.3  Iris-virginica\n",
       "146            6.3           2.5            5.0           1.9  Iris-virginica\n",
       "147            6.5           3.0            5.2           2.0  Iris-virginica\n",
       "148            6.2           3.4            5.4           2.3  Iris-virginica\n",
       "149            5.9           3.0            5.1           1.8  Iris-virginica\n",
       "\n",
       "[150 rows x 5 columns]"
      ]
     },
     "execution_count": 5,
     "metadata": {},
     "output_type": "execute_result"
    }
   ],
   "source": [
    "# Remove Id cloumn\n",
    "iris = iris.drop(columns=\"Id\")\n",
    "iris"
   ]
  },
  {
   "cell_type": "code",
   "execution_count": 6,
   "id": "249a18e9",
   "metadata": {},
   "outputs": [
    {
     "data": {
      "text/html": [
       "<div>\n",
       "<style scoped>\n",
       "    .dataframe tbody tr th:only-of-type {\n",
       "        vertical-align: middle;\n",
       "    }\n",
       "\n",
       "    .dataframe tbody tr th {\n",
       "        vertical-align: top;\n",
       "    }\n",
       "\n",
       "    .dataframe thead th {\n",
       "        text-align: right;\n",
       "    }\n",
       "</style>\n",
       "<table border=\"1\" class=\"dataframe\">\n",
       "  <thead>\n",
       "    <tr style=\"text-align: right;\">\n",
       "      <th></th>\n",
       "      <th>SepalLengthCm</th>\n",
       "      <th>SepalWidthCm</th>\n",
       "      <th>PetalLengthCm</th>\n",
       "      <th>PetalWidthCm</th>\n",
       "      <th>Species</th>\n",
       "    </tr>\n",
       "  </thead>\n",
       "  <tbody>\n",
       "    <tr>\n",
       "      <th>0</th>\n",
       "      <td>5.1</td>\n",
       "      <td>3.5</td>\n",
       "      <td>1.4</td>\n",
       "      <td>0.2</td>\n",
       "      <td>0</td>\n",
       "    </tr>\n",
       "    <tr>\n",
       "      <th>1</th>\n",
       "      <td>4.9</td>\n",
       "      <td>3.0</td>\n",
       "      <td>1.4</td>\n",
       "      <td>0.2</td>\n",
       "      <td>0</td>\n",
       "    </tr>\n",
       "    <tr>\n",
       "      <th>2</th>\n",
       "      <td>4.7</td>\n",
       "      <td>3.2</td>\n",
       "      <td>1.3</td>\n",
       "      <td>0.2</td>\n",
       "      <td>0</td>\n",
       "    </tr>\n",
       "    <tr>\n",
       "      <th>3</th>\n",
       "      <td>4.6</td>\n",
       "      <td>3.1</td>\n",
       "      <td>1.5</td>\n",
       "      <td>0.2</td>\n",
       "      <td>0</td>\n",
       "    </tr>\n",
       "    <tr>\n",
       "      <th>4</th>\n",
       "      <td>5.0</td>\n",
       "      <td>3.6</td>\n",
       "      <td>1.4</td>\n",
       "      <td>0.2</td>\n",
       "      <td>0</td>\n",
       "    </tr>\n",
       "    <tr>\n",
       "      <th>...</th>\n",
       "      <td>...</td>\n",
       "      <td>...</td>\n",
       "      <td>...</td>\n",
       "      <td>...</td>\n",
       "      <td>...</td>\n",
       "    </tr>\n",
       "    <tr>\n",
       "      <th>145</th>\n",
       "      <td>6.7</td>\n",
       "      <td>3.0</td>\n",
       "      <td>5.2</td>\n",
       "      <td>2.3</td>\n",
       "      <td>2</td>\n",
       "    </tr>\n",
       "    <tr>\n",
       "      <th>146</th>\n",
       "      <td>6.3</td>\n",
       "      <td>2.5</td>\n",
       "      <td>5.0</td>\n",
       "      <td>1.9</td>\n",
       "      <td>2</td>\n",
       "    </tr>\n",
       "    <tr>\n",
       "      <th>147</th>\n",
       "      <td>6.5</td>\n",
       "      <td>3.0</td>\n",
       "      <td>5.2</td>\n",
       "      <td>2.0</td>\n",
       "      <td>2</td>\n",
       "    </tr>\n",
       "    <tr>\n",
       "      <th>148</th>\n",
       "      <td>6.2</td>\n",
       "      <td>3.4</td>\n",
       "      <td>5.4</td>\n",
       "      <td>2.3</td>\n",
       "      <td>2</td>\n",
       "    </tr>\n",
       "    <tr>\n",
       "      <th>149</th>\n",
       "      <td>5.9</td>\n",
       "      <td>3.0</td>\n",
       "      <td>5.1</td>\n",
       "      <td>1.8</td>\n",
       "      <td>2</td>\n",
       "    </tr>\n",
       "  </tbody>\n",
       "</table>\n",
       "<p>150 rows × 5 columns</p>\n",
       "</div>"
      ],
      "text/plain": [
       "     SepalLengthCm  SepalWidthCm  PetalLengthCm  PetalWidthCm  Species\n",
       "0              5.1           3.5            1.4           0.2        0\n",
       "1              4.9           3.0            1.4           0.2        0\n",
       "2              4.7           3.2            1.3           0.2        0\n",
       "3              4.6           3.1            1.5           0.2        0\n",
       "4              5.0           3.6            1.4           0.2        0\n",
       "..             ...           ...            ...           ...      ...\n",
       "145            6.7           3.0            5.2           2.3        2\n",
       "146            6.3           2.5            5.0           1.9        2\n",
       "147            6.5           3.0            5.2           2.0        2\n",
       "148            6.2           3.4            5.4           2.3        2\n",
       "149            5.9           3.0            5.1           1.8        2\n",
       "\n",
       "[150 rows x 5 columns]"
      ]
     },
     "execution_count": 6,
     "metadata": {},
     "output_type": "execute_result"
    }
   ],
   "source": [
    "# Change Species data types to integers\n",
    "iris[\"Species\"] = iris[\"Species\"].replace({\"Iris-setosa\": \"0\", \"Iris-versicolor\": \"1\", \"Iris-virginica\": \"2\"})\n",
    "iris['Species'] = iris['Species'].astype(int)\n",
    "iris"
   ]
  },
  {
   "cell_type": "markdown",
   "id": "d424b6ac",
   "metadata": {},
   "source": [
    "### DataSet Summary"
   ]
  },
  {
   "cell_type": "markdown",
   "id": "c5939a58",
   "metadata": {},
   "source": [
    "#### DataSet Feautures"
   ]
  },
  {
   "cell_type": "code",
   "execution_count": 7,
   "id": "998a0930",
   "metadata": {},
   "outputs": [
    {
     "data": {
      "text/plain": [
       "count    150.000000\n",
       "mean       5.843333\n",
       "std        0.828066\n",
       "min        4.300000\n",
       "25%        5.100000\n",
       "50%        5.800000\n",
       "75%        6.400000\n",
       "max        7.900000\n",
       "Name: SepalLengthCm, dtype: float64"
      ]
     },
     "execution_count": 7,
     "metadata": {},
     "output_type": "execute_result"
    }
   ],
   "source": [
    "# SepalLengthCm\n",
    "iris[\"SepalLengthCm\"].describe()"
   ]
  },
  {
   "cell_type": "code",
   "execution_count": 8,
   "id": "86456419",
   "metadata": {},
   "outputs": [
    {
     "data": {
      "text/plain": [
       "count    150.000000\n",
       "mean       3.054000\n",
       "std        0.433594\n",
       "min        2.000000\n",
       "25%        2.800000\n",
       "50%        3.000000\n",
       "75%        3.300000\n",
       "max        4.400000\n",
       "Name: SepalWidthCm, dtype: float64"
      ]
     },
     "execution_count": 8,
     "metadata": {},
     "output_type": "execute_result"
    }
   ],
   "source": [
    "# SepalWidthCm\n",
    "iris[\"SepalWidthCm\"].describe()"
   ]
  },
  {
   "cell_type": "code",
   "execution_count": 9,
   "id": "a270a590",
   "metadata": {},
   "outputs": [
    {
     "data": {
      "text/plain": [
       "count    150.000000\n",
       "mean       3.758667\n",
       "std        1.764420\n",
       "min        1.000000\n",
       "25%        1.600000\n",
       "50%        4.350000\n",
       "75%        5.100000\n",
       "max        6.900000\n",
       "Name: PetalLengthCm, dtype: float64"
      ]
     },
     "execution_count": 9,
     "metadata": {},
     "output_type": "execute_result"
    }
   ],
   "source": [
    "# PetalLengthCm\n",
    "iris[\"PetalLengthCm\"].describe()"
   ]
  },
  {
   "cell_type": "code",
   "execution_count": 10,
   "id": "d3ec09c2",
   "metadata": {},
   "outputs": [
    {
     "data": {
      "text/plain": [
       "count    150.000000\n",
       "mean       3.758667\n",
       "std        1.764420\n",
       "min        1.000000\n",
       "25%        1.600000\n",
       "50%        4.350000\n",
       "75%        5.100000\n",
       "max        6.900000\n",
       "Name: PetalLengthCm, dtype: float64"
      ]
     },
     "execution_count": 10,
     "metadata": {},
     "output_type": "execute_result"
    }
   ],
   "source": [
    "# PetalWidthCm\n",
    "iris[\"PetalLengthCm\"].describe()"
   ]
  },
  {
   "cell_type": "markdown",
   "id": "30488e70",
   "metadata": {},
   "source": [
    "#### Duplicated Data"
   ]
  },
  {
   "cell_type": "code",
   "execution_count": 11,
   "id": "74d9bfad",
   "metadata": {},
   "outputs": [
    {
     "data": {
      "text/plain": [
       "3"
      ]
     },
     "execution_count": 11,
     "metadata": {},
     "output_type": "execute_result"
    }
   ],
   "source": [
    "iris.duplicated().sum()"
   ]
  },
  {
   "cell_type": "markdown",
   "id": "6a91ed0d",
   "metadata": {},
   "source": [
    "#### Distiribution"
   ]
  },
  {
   "cell_type": "code",
   "execution_count": 12,
   "id": "eb7ae334",
   "metadata": {},
   "outputs": [
    {
     "data": {
      "text/plain": [
       "<seaborn.axisgrid.FacetGrid at 0x1fbfce4fb80>"
      ]
     },
     "execution_count": 12,
     "metadata": {},
     "output_type": "execute_result"
    },
    {
     "data": {
      "image/png": "[encoded data removed]",
      "text/plain": [
       "<Figure size 360x360 with 1 Axes>"
      ]
     },
     "metadata": {
      "needs_background": "light"
     },
     "output_type": "display_data"
    }
   ],
   "source": [
    "sns.displot(iris[\"Species\"])"
   ]
  },
  {
   "cell_type": "markdown",
   "id": "e14fc0fa",
   "metadata": {},
   "source": [
    "DataSet is balanced, [50,50,50]"
   ]
  },
  {
   "cell_type": "markdown",
   "id": "69707a48",
   "metadata": {},
   "source": [
    "### Correlation Matrix"
   ]
  },
  {
   "cell_type": "code",
   "execution_count": 13,
   "id": "fad661a7",
   "metadata": {},
   "outputs": [
    {
     "data": {
      "text/html": [
       "<div>\n",
       "<style scoped>\n",
       "    .dataframe tbody tr th:only-of-type {\n",
       "        vertical-align: middle;\n",
       "    }\n",
       "\n",
       "    .dataframe tbody tr th {\n",
       "        vertical-align: top;\n",
       "    }\n",
       "\n",
       "    .dataframe thead th {\n",
       "        text-align: right;\n",
       "    }\n",
       "</style>\n",
       "<table border=\"1\" class=\"dataframe\">\n",
       "  <thead>\n",
       "    <tr style=\"text-align: right;\">\n",
       "      <th></th>\n",
       "      <th>SepalLengthCm</th>\n",
       "      <th>SepalWidthCm</th>\n",
       "      <th>PetalLengthCm</th>\n",
       "      <th>PetalWidthCm</th>\n",
       "      <th>Species</th>\n",
       "    </tr>\n",
       "  </thead>\n",
       "  <tbody>\n",
       "    <tr>\n",
       "      <th>SepalLengthCm</th>\n",
       "      <td>1.000000</td>\n",
       "      <td>-0.109369</td>\n",
       "      <td>0.871754</td>\n",
       "      <td>0.817954</td>\n",
       "      <td>0.782561</td>\n",
       "    </tr>\n",
       "    <tr>\n",
       "      <th>SepalWidthCm</th>\n",
       "      <td>-0.109369</td>\n",
       "      <td>1.000000</td>\n",
       "      <td>-0.420516</td>\n",
       "      <td>-0.356544</td>\n",
       "      <td>-0.419446</td>\n",
       "    </tr>\n",
       "    <tr>\n",
       "      <th>PetalLengthCm</th>\n",
       "      <td>0.871754</td>\n",
       "      <td>-0.420516</td>\n",
       "      <td>1.000000</td>\n",
       "      <td>0.962757</td>\n",
       "      <td>0.949043</td>\n",
       "    </tr>\n",
       "    <tr>\n",
       "      <th>PetalWidthCm</th>\n",
       "      <td>0.817954</td>\n",
       "      <td>-0.356544</td>\n",
       "      <td>0.962757</td>\n",
       "      <td>1.000000</td>\n",
       "      <td>0.956464</td>\n",
       "    </tr>\n",
       "    <tr>\n",
       "      <th>Species</th>\n",
       "      <td>0.782561</td>\n",
       "      <td>-0.419446</td>\n",
       "      <td>0.949043</td>\n",
       "      <td>0.956464</td>\n",
       "      <td>1.000000</td>\n",
       "    </tr>\n",
       "  </tbody>\n",
       "</table>\n",
       "</div>"
      ],
      "text/plain": [
       "               SepalLengthCm  SepalWidthCm  PetalLengthCm  PetalWidthCm  \\\n",
       "SepalLengthCm       1.000000     -0.109369       0.871754      0.817954   \n",
       "SepalWidthCm       -0.109369      1.000000      -0.420516     -0.356544   \n",
       "PetalLengthCm       0.871754     -0.420516       1.000000      0.962757   \n",
       "PetalWidthCm        0.817954     -0.356544       0.962757      1.000000   \n",
       "Species             0.782561     -0.419446       0.949043      0.956464   \n",
       "\n",
       "                Species  \n",
       "SepalLengthCm  0.782561  \n",
       "SepalWidthCm  -0.419446  \n",
       "PetalLengthCm  0.949043  \n",
       "PetalWidthCm   0.956464  \n",
       "Species        1.000000  "
      ]
     },
     "execution_count": 13,
     "metadata": {},
     "output_type": "execute_result"
    }
   ],
   "source": [
    "iris.corr()"
   ]
  },
  {
   "cell_type": "code",
   "execution_count": 14,
   "id": "f9247400",
   "metadata": {},
   "outputs": [
    {
     "data": {
      "image/png": "[encoded data removed]",
      "text/plain": [
       "<Figure size 432x288 with 2 Axes>"
      ]
     },
     "metadata": {
      "needs_background": "light"
     },
     "output_type": "display_data"
    }
   ],
   "source": [
    "heatmap = sns.heatmap(iris.corr(),annot=True)"
   ]
  },
  {
   "cell_type": "markdown",
   "id": "08237c83",
   "metadata": {},
   "source": [
    "### Pair-Plot"
   ]
  },
  {
   "cell_type": "code",
   "execution_count": 15,
   "id": "0abedf22",
   "metadata": {},
   "outputs": [
    {
     "data": {
      "image/png": "[encoded data removed]",
      "text/plain": [
       "<Figure size 766.375x720 with 20 Axes>"
      ]
     },
     "metadata": {
      "needs_background": "light"
     },
     "output_type": "display_data"
    }
   ],
   "source": [
    "sns.pairplot(iris, hue=\"Species\")\n",
    "plt.show()"
   ]
  },
  {
   "cell_type": "markdown",
   "id": "b0918479",
   "metadata": {},
   "source": [
    "# Train the classifier"
   ]
  },
  {
   "cell_type": "code",
   "execution_count": 16,
   "id": "37745758",
   "metadata": {},
   "outputs": [],
   "source": [
    "clf = DecisionTreeClassifier(max_depth=5)"
   ]
  },
  {
   "cell_type": "markdown",
   "id": "35208f6b",
   "metadata": {},
   "source": [
    "#### Split dataset to train and test"
   ]
  },
  {
   "cell_type": "code",
   "execution_count": 17,
   "id": "b812c409",
   "metadata": {},
   "outputs": [],
   "source": [
    "X=iris.values.tolist();\n",
    "y=[];\n",
    "for row in X:\n",
    "    y.append(int(row[4]));\n",
    "    del row[4];\n",
    "X=pd.Series(X);\n",
    "y=pd.Series(y);\n",
    "X_train, X_test, y_train, y_test = train_test_split(X, y, test_size=0.2, shuffle=True);\n",
    "\n",
    "X_train_list=X_train.values.tolist();\n",
    "y_train_list=y_train.values.tolist();\n",
    "X_test_list=X_test.values.tolist();\n",
    "y_test_list=y_test.values.tolist();"
   ]
  },
  {
   "cell_type": "markdown",
   "id": "9cbbe522",
   "metadata": {},
   "source": [
    "### Train The Classifier"
   ]
  },
  {
   "cell_type": "code",
   "execution_count": 18,
   "id": "a9a75847",
   "metadata": {},
   "outputs": [],
   "source": [
    "clf.fit(X_train_list,y_train_list);"
   ]
  },
  {
   "cell_type": "markdown",
   "id": "2f25eeca",
   "metadata": {},
   "source": [
    "### Predict Class of Test values"
   ]
  },
  {
   "cell_type": "code",
   "execution_count": 19,
   "id": "efe16cb5",
   "metadata": {},
   "outputs": [
    {
     "name": "stdout",
     "output_type": "stream",
     "text": [
      "Test Features Expected Classification\n",
      "[2, 1, 1, 2, 2, 0, 2, 0, 1, 0, 0, 0, 2, 2, 0, 1, 0, 0, 2, 0, 2, 0, 0, 0, 1, 2, 0, 0, 2, 0]\n",
      "Prediction\n",
      "[2, 2, 1, 2, 2, 0, 2, 0, 1, 0, 0, 0, 2, 2, 0, 1, 0, 0, 2, 0, 2, 0, 0, 0, 1, 2, 0, 0, 2, 0]\n",
      "Train Features Expected Classification\n",
      "[2, 2, 0, 0, 0, 1, 0, 1, 2, 2, 2, 2, 1, 0, 1, 2, 2, 2, 1, 0, 1, 0, 1, 1, 2, 0, 2, 0, 0, 1, 1, 2, 2, 1, 2, 2, 1, 2, 2, 0, 0, 1, 2, 0, 2, 1, 1, 1, 1, 2, 1, 2, 0, 1, 1, 0, 2, 2, 1, 0, 1, 2, 1, 2, 1, 2, 1, 1, 1, 2, 0, 1, 1, 0, 0, 2, 2, 1, 0, 2, 0, 1, 1, 2, 2, 0, 2, 1, 1, 0, 2, 0, 1, 0, 2, 1, 0, 0, 0, 2, 2, 1, 1, 0, 1, 2, 0, 1, 2, 0, 1, 0, 1, 1, 2, 1, 1, 0, 0, 0]\n",
      "Prediction\n",
      "[2, 2, 0, 0, 0, 1, 0, 1, 2, 2, 2, 2, 1, 0, 1, 2, 2, 2, 1, 0, 1, 0, 1, 1, 2, 0, 2, 0, 0, 1, 1, 2, 2, 1, 2, 2, 1, 2, 2, 0, 0, 1, 2, 0, 2, 1, 1, 1, 1, 2, 1, 2, 0, 1, 1, 0, 2, 2, 1, 0, 1, 2, 1, 2, 1, 2, 1, 1, 1, 2, 0, 1, 1, 0, 0, 2, 2, 1, 0, 2, 0, 1, 1, 2, 2, 0, 2, 1, 1, 0, 2, 0, 1, 0, 2, 1, 0, 0, 0, 2, 2, 1, 1, 0, 1, 2, 0, 1, 2, 0, 1, 0, 1, 1, 2, 1, 1, 0, 0, 0]\n"
     ]
    }
   ],
   "source": [
    "yhat = clf.predict(X_test_list)\n",
    "print(\"Test Features Expected Classification\")\n",
    "print(y_test_list)\n",
    "print(\"Prediction\")\n",
    "print(yhat);\n",
    "xhat = clf.predict(X_train_list)\n",
    "print(\"Train Features Expected Classification\")\n",
    "print(y_train_list)\n",
    "print(\"Prediction\")\n",
    "print(xhat);"
   ]
  },
  {
   "cell_type": "markdown",
   "id": "0bb5f98d",
   "metadata": {},
   "source": [
    "# Results"
   ]
  },
  {
   "cell_type": "markdown",
   "id": "18ee39e0",
   "metadata": {},
   "source": [
    "### Confusion Matrix"
   ]
  },
  {
   "cell_type": "markdown",
   "id": "330bd8b8",
   "metadata": {},
   "source": [
    "#### Test:"
   ]
  },
  {
   "cell_type": "code",
   "execution_count": 64,
   "id": "cd9cc589",
   "metadata": {
    "scrolled": false
   },
   "outputs": [
    {
     "data": {
      "text/html": [
       "<div>\n",
       "<style scoped>\n",
       "    .dataframe tbody tr th:only-of-type {\n",
       "        vertical-align: middle;\n",
       "    }\n",
       "\n",
       "    .dataframe tbody tr th {\n",
       "        vertical-align: top;\n",
       "    }\n",
       "\n",
       "    .dataframe thead th {\n",
       "        text-align: right;\n",
       "    }\n",
       "</style>\n",
       "<table border=\"1\" class=\"dataframe\">\n",
       "  <thead>\n",
       "    <tr style=\"text-align: right;\">\n",
       "      <th>Prediction</th>\n",
       "      <th>0</th>\n",
       "      <th>1</th>\n",
       "      <th>2</th>\n",
       "    </tr>\n",
       "    <tr>\n",
       "      <th>Test Features Expected Classification</th>\n",
       "      <th></th>\n",
       "      <th></th>\n",
       "      <th></th>\n",
       "    </tr>\n",
       "  </thead>\n",
       "  <tbody>\n",
       "    <tr>\n",
       "      <th>0</th>\n",
       "      <td>15</td>\n",
       "      <td>0</td>\n",
       "      <td>0</td>\n",
       "    </tr>\n",
       "    <tr>\n",
       "      <th>1</th>\n",
       "      <td>0</td>\n",
       "      <td>4</td>\n",
       "      <td>1</td>\n",
       "    </tr>\n",
       "    <tr>\n",
       "      <th>2</th>\n",
       "      <td>0</td>\n",
       "      <td>0</td>\n",
       "      <td>10</td>\n",
       "    </tr>\n",
       "  </tbody>\n",
       "</table>\n",
       "</div>"
      ],
      "text/plain": [
       "Prediction                              0  1   2\n",
       "Test Features Expected Classification           \n",
       "0                                      15  0   0\n",
       "1                                       0  4   1\n",
       "2                                       0  0  10"
      ]
     },
     "execution_count": 64,
     "metadata": {},
     "output_type": "execute_result"
    }
   ],
   "source": [
    "#Test Features Expected Classification\n",
    "expected_test = pd.Series(y_test_list)\n",
    "#Prediction\n",
    "predicted_test = pd.Series(yhat)\n",
    "\n",
    "#Confusion Matrix \n",
    "confusion_matrix_test = pd.crosstab(expected_test, predicted_test, rownames=['Test Features Expected Classification'], colnames=['Prediction'])\n",
    "confusion_matrix_test"
   ]
  },
  {
   "cell_type": "markdown",
   "id": "a983f922",
   "metadata": {},
   "source": [
    "Decision Tree wrongly classified 1 Iris-versicolor as Iris-virginica \n",
    "<br>\n",
    "Decision Tree correctly classified 15 Iris-setosa, 4 Iris-versicolor and 10 Iris-virginica\n",
    "<br>\n",
    "29 True Positive Classification"
   ]
  },
  {
   "cell_type": "markdown",
   "id": "1af97964",
   "metadata": {},
   "source": [
    "#### Train:"
   ]
  },
  {
   "cell_type": "code",
   "execution_count": 67,
   "id": "bcca48ba",
   "metadata": {},
   "outputs": [
    {
     "data": {
      "text/html": [
       "<div>\n",
       "<style scoped>\n",
       "    .dataframe tbody tr th:only-of-type {\n",
       "        vertical-align: middle;\n",
       "    }\n",
       "\n",
       "    .dataframe tbody tr th {\n",
       "        vertical-align: top;\n",
       "    }\n",
       "\n",
       "    .dataframe thead th {\n",
       "        text-align: right;\n",
       "    }\n",
       "</style>\n",
       "<table border=\"1\" class=\"dataframe\">\n",
       "  <thead>\n",
       "    <tr style=\"text-align: right;\">\n",
       "      <th>Prediction</th>\n",
       "      <th>0</th>\n",
       "      <th>1</th>\n",
       "      <th>2</th>\n",
       "    </tr>\n",
       "    <tr>\n",
       "      <th>Train Features Expected Classification</th>\n",
       "      <th></th>\n",
       "      <th></th>\n",
       "      <th></th>\n",
       "    </tr>\n",
       "  </thead>\n",
       "  <tbody>\n",
       "    <tr>\n",
       "      <th>0</th>\n",
       "      <td>35</td>\n",
       "      <td>0</td>\n",
       "      <td>0</td>\n",
       "    </tr>\n",
       "    <tr>\n",
       "      <th>1</th>\n",
       "      <td>0</td>\n",
       "      <td>45</td>\n",
       "      <td>0</td>\n",
       "    </tr>\n",
       "    <tr>\n",
       "      <th>2</th>\n",
       "      <td>0</td>\n",
       "      <td>0</td>\n",
       "      <td>40</td>\n",
       "    </tr>\n",
       "  </tbody>\n",
       "</table>\n",
       "</div>"
      ],
      "text/plain": [
       "Prediction                               0   1   2\n",
       "Train Features Expected Classification            \n",
       "0                                       35   0   0\n",
       "1                                        0  45   0\n",
       "2                                        0   0  40"
      ]
     },
     "execution_count": 67,
     "metadata": {},
     "output_type": "execute_result"
    }
   ],
   "source": [
    "#Train Features Expected Classification\n",
    "expected_train = pd.Series(y_train_list)\n",
    "#Prediction\n",
    "predicted_train = pd.Series(xhat)\n",
    "\n",
    "#Confusion Matrix\n",
    "confusion_matrix_train = pd.crosstab(expected_train, predicted_train, rownames=['Train Features Expected Classification'], colnames=['Prediction'])\n",
    "confusion_matrix_train"
   ]
  },
  {
   "cell_type": "markdown",
   "id": "f153fe7e",
   "metadata": {},
   "source": [
    "Decision Tree correctly classified 35 Iris-setosa, 45 Iris-versicolor and 40 Iris-virginica\n",
    "<br>\n",
    "120 True Positive Classification"
   ]
  },
  {
   "cell_type": "markdown",
   "id": "074011c5",
   "metadata": {},
   "source": [
    "### Precision"
   ]
  },
  {
   "cell_type": "markdown",
   "id": "e354a5ea",
   "metadata": {},
   "source": [
    "#### Test"
   ]
  },
  {
   "cell_type": "code",
   "execution_count": 65,
   "id": "ec045e9e",
   "metadata": {},
   "outputs": [
    {
     "name": "stdout",
     "output_type": "stream",
     "text": [
      "Test Precision:  0.9696969696969696\n"
     ]
    }
   ],
   "source": [
    "test_precision = metrics.precision_score(expected_test, predicted_test, average='weighted')\n",
    "print(\"Test Precision: \" , test_precision)"
   ]
  },
  {
   "cell_type": "markdown",
   "id": "8acea9e0",
   "metadata": {},
   "source": [
    "#### Train"
   ]
  },
  {
   "cell_type": "code",
   "execution_count": 68,
   "id": "dc46303f",
   "metadata": {},
   "outputs": [
    {
     "name": "stdout",
     "output_type": "stream",
     "text": [
      "Train Precision:  1.0\n"
     ]
    }
   ],
   "source": [
    "train_precision = metrics.precision_score(expected_train, predicted_train, average='weighted')\n",
    "print(\"Train Precision: \" , train_precision)"
   ]
  },
  {
   "cell_type": "markdown",
   "id": "3d2e5726",
   "metadata": {},
   "source": [
    "### Accuracy"
   ]
  },
  {
   "cell_type": "markdown",
   "id": "b4e7345e",
   "metadata": {},
   "source": [
    "#### Test"
   ]
  },
  {
   "cell_type": "code",
   "execution_count": 66,
   "id": "07c4994e",
   "metadata": {},
   "outputs": [
    {
     "name": "stdout",
     "output_type": "stream",
     "text": [
      "Test Accuracy:  0.9666666666666667\n"
     ]
    }
   ],
   "source": [
    "test_accuracy = metrics.accuracy_score(expected_test, predicted_test)\n",
    "print(\"Test Accuracy: \", test_accuracy)"
   ]
  },
  {
   "cell_type": "markdown",
   "id": "a516438f",
   "metadata": {},
   "source": [
    "#### Train"
   ]
  },
  {
   "cell_type": "code",
   "execution_count": 69,
   "id": "5cff7856",
   "metadata": {},
   "outputs": [
    {
     "name": "stdout",
     "output_type": "stream",
     "text": [
      "Train Accuracy:  1.0\n"
     ]
    }
   ],
   "source": [
    "train_accuracy = metrics.accuracy_score(expected_train, predicted_train)\n",
    "print(\"Train Accuracy: \" , train_accuracy)"
   ]
  },
  {
   "cell_type": "markdown",
   "id": "06294ecb",
   "metadata": {},
   "source": [
    "### F1-Score"
   ]
  },
  {
   "cell_type": "markdown",
   "id": "65ad0204",
   "metadata": {},
   "source": [
    "F1-Score = (2\\*precision*recall)/(precision+recall)"
   ]
  },
  {
   "cell_type": "markdown",
   "id": "8866cb56",
   "metadata": {},
   "source": [
    "#### Test"
   ]
  },
  {
   "cell_type": "code",
   "execution_count": 70,
   "id": "0bc8dbbb",
   "metadata": {},
   "outputs": [
    {
     "name": "stdout",
     "output_type": "stream",
     "text": [
      "Test F1-Score:  0.9656084656084656\n"
     ]
    }
   ],
   "source": [
    "test_f1 = metrics.f1_score(expected_test, predicted_test, average='weighted')\n",
    "print(\"Test F1-Score: \", test_f1)"
   ]
  },
  {
   "cell_type": "code",
   "execution_count": null,
   "id": "6cd26c08",
   "metadata": {},
   "outputs": [],
   "source": [
    "Decicion Tree correctly classified test data with high probabilty"
   ]
  },
  {
   "cell_type": "markdown",
   "id": "5096bce9",
   "metadata": {},
   "source": [
    "#### Train"
   ]
  },
  {
   "cell_type": "code",
   "execution_count": 72,
   "id": "5d21dae5",
   "metadata": {},
   "outputs": [
    {
     "name": "stdout",
     "output_type": "stream",
     "text": [
      "Train F1-Score:  1.0\n"
     ]
    }
   ],
   "source": [
    "train_f1 = metrics.f1_score(expected_train, predicted_train, average='weighted')\n",
    "print(\"Train F1-Score: \", train_f1)"
   ]
  }
 ],
 "metadata": {
  "kernelspec": {
   "display_name": "Python 3 (ipykernel)",
   "language": "python",
   "name": "python3"
  },
  "language_info": {
   "codemirror_mode": {
    "name": "ipython",
    "version": 3
   },
   "file_extension": ".py",
   "mimetype": "text/x-python",
   "name": "python",
   "nbconvert_exporter": "python",
   "pygments_lexer": "ipython3",
   "version": "3.9.12"
  }
 },
 "nbformat": 4,
 "nbformat_minor": 5
}
